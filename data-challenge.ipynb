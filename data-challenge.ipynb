{
 "cells": [
  {
   "cell_type": "markdown",
   "metadata": {
    "_uuid": "e641fd8dc5643f2587890d29ed2d2d8a8dbd8520"
   },
   "source": [
    "# **Taxi Dynamic Pricing System **   \n",
    "Team Number: DC19022 - 1st March 2019\n",
    "____________________________________________________________________________________________________________________________________________"
   ]
  },
  {
   "cell_type": "markdown",
   "metadata": {
    "_uuid": "80256e4cb5f603afdbf4daa2ad8a0a7000b36c17"
   },
   "source": [
    "## 1. Data Processing"
   ]
  },
  {
   "cell_type": "markdown",
   "metadata": {
    "_uuid": "8fc28b37c1771919bf8c450a63482526647e7fb2"
   },
   "source": [
    "### a. Load Data\n",
    "First of all, we concatenate all 12 files into a total dataset file, solving wrong placement of delimiter. The total dataset file contain 12 months’ data, which is over 4 GB. In order to handle this huge dataset file, we upload it to Kaggle for future processing."
   ]
  },
  {
   "cell_type": "code",
   "execution_count": 1,
   "metadata": {
    "_kg_hide-input": false,
    "_kg_hide-output": false,
    "_uuid": "6cc4058fe4d4d3ef689b368e2b113bff320cc212"
   },
   "outputs": [],
   "source": [
    "#Call required libraries\n",
    "import numpy as np            # Data manipulation\n",
    "from numpy import nan as NA\n",
    "import pandas as pd           # Dataframe manipulatio \n",
    "from pandas import DataFrame\n",
    "import matplotlib.pyplot as plt\n",
    "import os\n",
    "import conda\n",
    "import seaborn as sns\n",
    "from sklearn.cluster import KMeans #For clustering"
   ]
  },
  {
   "cell_type": "code",
   "execution_count": 2,
   "metadata": {
    "_uuid": "f11fcd638e4bff6aa0cbbc21b89588df27352368",
    "scrolled": false
   },
   "outputs": [
    {
     "name": "stderr",
     "output_type": "stream",
     "text": [
      "/opt/conda/lib/python3.6/site-packages/IPython/core/interactiveshell.py:2785: DtypeWarning: Columns (0,5,15,19,22,26) have mixed types. Specify dtype option on import or set low_memory=False.\n",
      "  interactivity=interactivity, compiler=compiler, result=result)\n"
     ]
    }
   ],
   "source": [
    "# Load data\n",
    "taxi_df = pd.read_csv('../input/taxi_final.csv', delimiter = ',', low_memory = True )"
   ]
  },
  {
   "cell_type": "markdown",
   "metadata": {
    "_uuid": "5962e1550485c97e5b424430ff6e13a002ccae09"
   },
   "source": [
    "### b. Basic Check of data"
   ]
  },
  {
   "cell_type": "code",
   "execution_count": 3,
   "metadata": {
    "_uuid": "33c42e27ad49365236cd577b52abc58dee2e68d9"
   },
   "outputs": [
    {
     "data": {
      "text/plain": [
       "Index(['Type', 'PROVIDER NAME', 'StartDateTime', 'DateCreated', 'ID',\n",
       "       'ExternalID', 'FareAmount', 'GratuityAmount', 'SurchargeAmount',\n",
       "       'ExtraFareAmount', 'TollAmount', 'TotalAmount', 'PaymentType',\n",
       "       'StartDateTime.1', 'EndDateTime', 'OriginStreetNumber',\n",
       "       'OriginStreetName', 'OriginCity', 'OriginState', 'OriginZip',\n",
       "       'OriginLatitude', 'OriginLongitude', 'DestinationStreetNumber',\n",
       "       'DestinationStreetName', 'DestinationCity', 'DestinationState',\n",
       "       'DestinationZip', 'DestinationLatitude', 'DestinationLongitude',\n",
       "       'Milage', 'Duration', 'Unnamed: 31'],\n",
       "      dtype='object')"
      ]
     },
     "execution_count": 3,
     "metadata": {},
     "output_type": "execute_result"
    }
   ],
   "source": [
    "# Column names\n",
    "taxi_df.columns"
   ]
  },
  {
   "cell_type": "code",
   "execution_count": 4,
   "metadata": {
    "_uuid": "8e4f53784ef9b0bedfb4bb34895e0de238e9f0a3",
    "scrolled": true
   },
   "outputs": [
    {
     "name": "stdout",
     "output_type": "stream",
     "text": [
      "<class 'pandas.core.frame.DataFrame'>\n",
      "RangeIndex: 11937645 entries, 0 to 11937644\n",
      "Data columns (total 32 columns):\n",
      "Type                       object\n",
      "PROVIDER NAME              object\n",
      "StartDateTime              object\n",
      "DateCreated                object\n",
      "ID                         object\n",
      "ExternalID                 object\n",
      "FareAmount                 float64\n",
      "GratuityAmount             float64\n",
      "SurchargeAmount            float64\n",
      "ExtraFareAmount            float64\n",
      "TollAmount                 float64\n",
      "TotalAmount                float64\n",
      "PaymentType                float64\n",
      "StartDateTime.1            object\n",
      "EndDateTime                object\n",
      "OriginStreetNumber         object\n",
      "OriginStreetName           object\n",
      "OriginCity                 object\n",
      "OriginState                object\n",
      "OriginZip                  object\n",
      "OriginLatitude             float64\n",
      "OriginLongitude            float64\n",
      "DestinationStreetNumber    object\n",
      "DestinationStreetName      object\n",
      "DestinationCity            object\n",
      "DestinationState           object\n",
      "DestinationZip             object\n",
      "DestinationLatitude        float64\n",
      "DestinationLongitude       float64\n",
      "Milage                     float64\n",
      "Duration                   float64\n",
      "Unnamed: 31                float64\n",
      "dtypes: float64(14), object(18)\n",
      "memory usage: 2.8+ GB\n"
     ]
    }
   ],
   "source": [
    "# Basic information about dataset\n",
    "taxi_df.info()"
   ]
  },
  {
   "cell_type": "code",
   "execution_count": 5,
   "metadata": {
    "_uuid": "df57b85cd84d4767d97116f927bf84c17b481e46"
   },
   "outputs": [],
   "source": [
    "# Drop useless columns\n",
    "taxi_df.drop(['DateCreated', 'StartDateTime.1', 'Unnamed: 31'], axis=1, inplace=True)"
   ]
  },
  {
   "cell_type": "code",
   "execution_count": 6,
   "metadata": {
    "_uuid": "9aaeadd961cb4f7872c683e23aa53815d2fc858b"
   },
   "outputs": [],
   "source": [
    "# Remove nulls and wrong values\n",
    "taxi_df = taxi_df[taxi_df['FareAmount'] > 0]\n",
    "taxi_df = taxi_df[taxi_df['GratuityAmount'] >= 0]\n",
    "taxi_df = taxi_df[taxi_df['SurchargeAmount'] >= 0]\n",
    "taxi_df = taxi_df[taxi_df['ExtraFareAmount'] >= 0]\n",
    "taxi_df = taxi_df[taxi_df['TotalAmount'] > 0]\n",
    "taxi_df = taxi_df[taxi_df['Milage'] > 0]\n",
    "taxi_df = taxi_df[taxi_df['Milage'] < 500]"
   ]
  },
  {
   "cell_type": "markdown",
   "metadata": {
    "_uuid": "64026b378630432ba0cec1ce993ba2506bb07c79"
   },
   "source": [
    "## 2. EDA"
   ]
  },
  {
   "cell_type": "code",
   "execution_count": 7,
   "metadata": {
    "_uuid": "cd5c80e7164c5e8ffb5f462a545eadf1ebc438a3"
   },
   "outputs": [
    {
     "data": {
      "text/plain": [
       "PROVIDER NAME\n",
       "Bay Cab            7.208548e+06\n",
       "CMT                2.286637e+07\n",
       "Capitol Cab        7.251145e+05\n",
       "DC VIP Cab         1.686416e+07\n",
       "Grand Cab          3.523022e+06\n",
       "Hitch              1.878349e+07\n",
       "My taxi Control    4.505555e+05\n",
       "Transco            1.779673e+07\n",
       "UVC                2.686196e+07\n",
       "VeriFone           1.351136e+07\n",
       "Yellow Cab         1.057036e+07\n",
       "Name: FareAmount, dtype: float64"
      ]
     },
     "execution_count": 7,
     "metadata": {},
     "output_type": "execute_result"
    }
   ],
   "source": [
    "taxi_df['FareAmount'].groupby(taxi_df['PROVIDER NAME']).sum()"
   ]
  },
  {
   "cell_type": "code",
   "execution_count": 8,
   "metadata": {
    "_uuid": "a0f46d09de4577bb99afb6678e6a578fcf27a4c9"
   },
   "outputs": [],
   "source": [
    "# Change data format\n",
    "taxi_df['StartDateTime'] = pd.to_datetime(taxi_df['StartDateTime'], errors='coerce')\n",
    "taxi_df['EndDateTime'] = pd.to_datetime(taxi_df['EndDateTime'])\n",
    "\n",
    "# Generate detailed columns of datetime\n",
    "taxi_df['Date'] = taxi_df['StartDateTime'].dt.date\n",
    "taxi_df['Hour'] = taxi_df['StartDateTime'].dt.hour\n",
    "taxi_df['Weekday'] = taxi_df['StartDateTime'].dt.weekday\n",
    "taxi_df['DayofWeek'] = taxi_df['StartDateTime'].dt.weekday_name"
   ]
  },
  {
   "cell_type": "code",
   "execution_count": 9,
   "metadata": {
    "_uuid": "b79dca4caf9a6c038f0fdcc9c3f930fb5457e45d",
    "scrolled": false
   },
   "outputs": [
    {
     "data": {
      "image/png": "[encoded data removed]",
      "text/plain": [
       "<Figure size 1440x1080 with 2 Axes>"
      ]
     },
     "metadata": {},
     "output_type": "display_data"
    }
   ],
   "source": [
    "# Plot the heat map\n",
    "time_map=pd.pivot_table(taxi_df,index=['DayofWeek'],columns =['Hour'],aggfunc='size')\n",
    "fig, ax = plt.subplots(figsize=(20,15)) \n",
    "ax=sns.heatmap(time_map,linewidths=0.1,square=True,cmap='YlGnBu')"
   ]
  },
  {
   "cell_type": "code",
   "execution_count": 10,
   "metadata": {
    "_uuid": "71363bad1897e71847b2fd69dae3d0642552d80e"
   },
   "outputs": [
    {
     "data": {
      "text/plain": [
       "<matplotlib.colorbar.Colorbar at 0x7f8dc32ce5f8>"
      ]
     },
     "execution_count": 10,
     "metadata": {},
     "output_type": "execute_result"
    },
    {
     "data": {
      "image/png": "[encoded data removed]",
      "text/plain": [
       "<Figure size 1008x720 with 2 Axes>"
      ]
     },
     "metadata": {},
     "output_type": "display_data"
    }
   ],
   "source": [
    "from mpl_toolkits.basemap import Basemap\n",
    "from matplotlib import cm\n",
    "west, south, east, north = -77.87, 38.00, -76.00, 39.5\n",
    "fig = plt.figure(figsize=(14,10))\n",
    "m = Basemap(projection='tmerc', llcrnrlat=south, urcrnrlat=north,\n",
    "            llcrnrlon=west, urcrnrlon=east, lat_0=38.00,lon_0=-76.00, resolution='i')\n",
    "m.drawstates()\n",
    "x, y = m(taxi_df['DestinationLongitude'].values, taxi_df['DestinationLatitude'].values)\n",
    "m.hexbin(x, y, gridsize=6000, bins='log',cmap=cm.YlOrRd_r)\n",
    "m.colorbar(location='bottom')"
   ]
  },
  {
   "cell_type": "code",
   "execution_count": 11,
   "metadata": {
    "_uuid": "2ae8e615b07d880cdeed92bac607665def48f738"
   },
   "outputs": [],
   "source": [
    "# Classify weekdays and weekend\n",
    "x = 0\n",
    "taxi_df['IsWeekday'] = [x+1 if i<6 else x for i in taxi_df['Weekday']]"
   ]
  },
  {
   "cell_type": "code",
   "execution_count": 12,
   "metadata": {
    "_uuid": "9da530f0d2350a0f6ea4a1ea6fb95435230a0d14"
   },
   "outputs": [],
   "source": [
    "# Remove nulls and wrong values\n",
    "taxi_df['StartDateTime'].dropna(inplace=True)\n",
    "taxi_df = taxi_df[taxi_df['StartDateTime'] < taxi_df['EndDateTime']]"
   ]
  },
  {
   "cell_type": "markdown",
   "metadata": {
    "_uuid": "4e0ad4a1a1481de8405a09a9a3bd16c9b7e627b2"
   },
   "source": [
    "## 2. Time clustering   \n",
    "To label each hour in a day with off-peak-normal-peak, we apply **K-Means clustering** in python with scikit-learn. In the process of cleaning data, we remove the null and wrong data from dataset. Due to the different pattern between weekdays and weekend, we divide total dataset into two parts and develop clustering models separately. As a result, we found that peak time is 12-19 am and the off-peak time is 0-7 am on weekdays. For weekend, the peak time is 0-2 am and 14-19 am, and the off-peak time is 4-9 am."
   ]
  },
  {
   "cell_type": "code",
   "execution_count": 13,
   "metadata": {
    "_uuid": "ab31839911103094d394e0200b484664d16b7213"
   },
   "outputs": [],
   "source": [
    "# Label Weekdays\n",
    "df1 = DataFrame(taxi_df[taxi_df['IsWeekday']==1]['Hour'].value_counts().sort_index())\n",
    "df1 = df1.reset_index()\n",
    "df1.columns = ['Hour', 'Demand']\n",
    "\n",
    "kmeans = KMeans(n_clusters=3, random_state=0).fit(df1)\n",
    "df1['WeekdayLabel'] = kmeans.labels_"
   ]
  },
  {
   "cell_type": "code",
   "execution_count": 14,
   "metadata": {
    "_uuid": "8ac8d2a9dc9b287cf028ea3bbc1d1c0fb31417d7",
    "scrolled": true
   },
   "outputs": [
    {
     "data": {
      "text/html": [
       "<div>\n",
       "<style scoped>\n",
       "    .dataframe tbody tr th:only-of-type {\n",
       "        vertical-align: middle;\n",
       "    }\n",
       "\n",
       "    .dataframe tbody tr th {\n",
       "        vertical-align: top;\n",
       "    }\n",
       "\n",
       "    .dataframe thead th {\n",
       "        text-align: right;\n",
       "    }\n",
       "</style>\n",
       "<table border=\"1\" class=\"dataframe\">\n",
       "  <thead>\n",
       "    <tr style=\"text-align: right;\">\n",
       "      <th></th>\n",
       "      <th>Hour</th>\n",
       "      <th>Demand</th>\n",
       "      <th>WeekdayLabel</th>\n",
       "    </tr>\n",
       "  </thead>\n",
       "  <tbody>\n",
       "    <tr>\n",
       "      <th>0</th>\n",
       "      <td>0</td>\n",
       "      <td>238728</td>\n",
       "      <td>0</td>\n",
       "    </tr>\n",
       "    <tr>\n",
       "      <th>1</th>\n",
       "      <td>1</td>\n",
       "      <td>180951</td>\n",
       "      <td>0</td>\n",
       "    </tr>\n",
       "    <tr>\n",
       "      <th>2</th>\n",
       "      <td>2</td>\n",
       "      <td>147825</td>\n",
       "      <td>0</td>\n",
       "    </tr>\n",
       "    <tr>\n",
       "      <th>3</th>\n",
       "      <td>3</td>\n",
       "      <td>95847</td>\n",
       "      <td>0</td>\n",
       "    </tr>\n",
       "    <tr>\n",
       "      <th>4</th>\n",
       "      <td>4</td>\n",
       "      <td>69786</td>\n",
       "      <td>0</td>\n",
       "    </tr>\n",
       "    <tr>\n",
       "      <th>5</th>\n",
       "      <td>5</td>\n",
       "      <td>69082</td>\n",
       "      <td>0</td>\n",
       "    </tr>\n",
       "    <tr>\n",
       "      <th>6</th>\n",
       "      <td>6</td>\n",
       "      <td>93402</td>\n",
       "      <td>0</td>\n",
       "    </tr>\n",
       "    <tr>\n",
       "      <th>7</th>\n",
       "      <td>7</td>\n",
       "      <td>186760</td>\n",
       "      <td>0</td>\n",
       "    </tr>\n",
       "    <tr>\n",
       "      <th>8</th>\n",
       "      <td>8</td>\n",
       "      <td>317531</td>\n",
       "      <td>2</td>\n",
       "    </tr>\n",
       "    <tr>\n",
       "      <th>9</th>\n",
       "      <td>9</td>\n",
       "      <td>401168</td>\n",
       "      <td>2</td>\n",
       "    </tr>\n",
       "    <tr>\n",
       "      <th>10</th>\n",
       "      <td>10</td>\n",
       "      <td>421169</td>\n",
       "      <td>2</td>\n",
       "    </tr>\n",
       "    <tr>\n",
       "      <th>11</th>\n",
       "      <td>11</td>\n",
       "      <td>516407</td>\n",
       "      <td>2</td>\n",
       "    </tr>\n",
       "    <tr>\n",
       "      <th>12</th>\n",
       "      <td>12</td>\n",
       "      <td>557537</td>\n",
       "      <td>1</td>\n",
       "    </tr>\n",
       "    <tr>\n",
       "      <th>13</th>\n",
       "      <td>13</td>\n",
       "      <td>624193</td>\n",
       "      <td>1</td>\n",
       "    </tr>\n",
       "    <tr>\n",
       "      <th>14</th>\n",
       "      <td>14</td>\n",
       "      <td>633560</td>\n",
       "      <td>1</td>\n",
       "    </tr>\n",
       "    <tr>\n",
       "      <th>15</th>\n",
       "      <td>15</td>\n",
       "      <td>641115</td>\n",
       "      <td>1</td>\n",
       "    </tr>\n",
       "    <tr>\n",
       "      <th>16</th>\n",
       "      <td>16</td>\n",
       "      <td>630991</td>\n",
       "      <td>1</td>\n",
       "    </tr>\n",
       "    <tr>\n",
       "      <th>17</th>\n",
       "      <td>17</td>\n",
       "      <td>640334</td>\n",
       "      <td>1</td>\n",
       "    </tr>\n",
       "    <tr>\n",
       "      <th>18</th>\n",
       "      <td>18</td>\n",
       "      <td>628213</td>\n",
       "      <td>1</td>\n",
       "    </tr>\n",
       "    <tr>\n",
       "      <th>19</th>\n",
       "      <td>19</td>\n",
       "      <td>555320</td>\n",
       "      <td>1</td>\n",
       "    </tr>\n",
       "    <tr>\n",
       "      <th>20</th>\n",
       "      <td>20</td>\n",
       "      <td>493486</td>\n",
       "      <td>2</td>\n",
       "    </tr>\n",
       "    <tr>\n",
       "      <th>21</th>\n",
       "      <td>21</td>\n",
       "      <td>486224</td>\n",
       "      <td>2</td>\n",
       "    </tr>\n",
       "    <tr>\n",
       "      <th>22</th>\n",
       "      <td>22</td>\n",
       "      <td>454759</td>\n",
       "      <td>2</td>\n",
       "    </tr>\n",
       "    <tr>\n",
       "      <th>23</th>\n",
       "      <td>23</td>\n",
       "      <td>357500</td>\n",
       "      <td>2</td>\n",
       "    </tr>\n",
       "  </tbody>\n",
       "</table>\n",
       "</div>"
      ],
      "text/plain": [
       "    Hour  Demand  WeekdayLabel\n",
       "0      0  238728             0\n",
       "1      1  180951             0\n",
       "2      2  147825             0\n",
       "3      3   95847             0\n",
       "4      4   69786             0\n",
       "5      5   69082             0\n",
       "6      6   93402             0\n",
       "7      7  186760             0\n",
       "8      8  317531             2\n",
       "9      9  401168             2\n",
       "10    10  421169             2\n",
       "11    11  516407             2\n",
       "12    12  557537             1\n",
       "13    13  624193             1\n",
       "14    14  633560             1\n",
       "15    15  641115             1\n",
       "16    16  630991             1\n",
       "17    17  640334             1\n",
       "18    18  628213             1\n",
       "19    19  555320             1\n",
       "20    20  493486             2\n",
       "21    21  486224             2\n",
       "22    22  454759             2\n",
       "23    23  357500             2"
      ]
     },
     "execution_count": 14,
     "metadata": {},
     "output_type": "execute_result"
    }
   ],
   "source": [
    "# Weekdays time tiers\n",
    "df1"
   ]
  },
  {
   "cell_type": "code",
   "execution_count": 15,
   "metadata": {
    "_uuid": "220136d7ab97f624d7010f3a6c7b8f581c54a384"
   },
   "outputs": [],
   "source": [
    "# Label Weekend\n",
    "df2 = DataFrame(taxi_df[taxi_df['IsWeekday']==0]['Hour'].value_counts().sort_index())\n",
    "df2 = df2.reset_index()\n",
    "df2.columns = ['Hour', 'Demand']\n",
    "\n",
    "kmeans = KMeans(n_clusters=3, random_state=0).fit(df2)\n",
    "df2['WeekendLabel'] = kmeans.labels_"
   ]
  },
  {
   "cell_type": "code",
   "execution_count": 16,
   "metadata": {
    "_uuid": "31d642d5df68954c0a0e8217ed2ed5daa7786f00",
    "scrolled": true
   },
   "outputs": [
    {
     "data": {
      "text/html": [
       "<div>\n",
       "<style scoped>\n",
       "    .dataframe tbody tr th:only-of-type {\n",
       "        vertical-align: middle;\n",
       "    }\n",
       "\n",
       "    .dataframe tbody tr th {\n",
       "        vertical-align: top;\n",
       "    }\n",
       "\n",
       "    .dataframe thead th {\n",
       "        text-align: right;\n",
       "    }\n",
       "</style>\n",
       "<table border=\"1\" class=\"dataframe\">\n",
       "  <thead>\n",
       "    <tr style=\"text-align: right;\">\n",
       "      <th></th>\n",
       "      <th>Hour</th>\n",
       "      <th>Demand</th>\n",
       "      <th>WeekendLabel</th>\n",
       "    </tr>\n",
       "  </thead>\n",
       "  <tbody>\n",
       "    <tr>\n",
       "      <th>0</th>\n",
       "      <td>0</td>\n",
       "      <td>62593</td>\n",
       "      <td>2</td>\n",
       "    </tr>\n",
       "    <tr>\n",
       "      <th>1</th>\n",
       "      <td>1</td>\n",
       "      <td>58798</td>\n",
       "      <td>2</td>\n",
       "    </tr>\n",
       "    <tr>\n",
       "      <th>2</th>\n",
       "      <td>2</td>\n",
       "      <td>56643</td>\n",
       "      <td>2</td>\n",
       "    </tr>\n",
       "    <tr>\n",
       "      <th>3</th>\n",
       "      <td>3</td>\n",
       "      <td>40966</td>\n",
       "      <td>0</td>\n",
       "    </tr>\n",
       "    <tr>\n",
       "      <th>4</th>\n",
       "      <td>4</td>\n",
       "      <td>22627</td>\n",
       "      <td>1</td>\n",
       "    </tr>\n",
       "    <tr>\n",
       "      <th>5</th>\n",
       "      <td>5</td>\n",
       "      <td>18693</td>\n",
       "      <td>1</td>\n",
       "    </tr>\n",
       "    <tr>\n",
       "      <th>6</th>\n",
       "      <td>6</td>\n",
       "      <td>19682</td>\n",
       "      <td>1</td>\n",
       "    </tr>\n",
       "    <tr>\n",
       "      <th>7</th>\n",
       "      <td>7</td>\n",
       "      <td>20560</td>\n",
       "      <td>1</td>\n",
       "    </tr>\n",
       "    <tr>\n",
       "      <th>8</th>\n",
       "      <td>8</td>\n",
       "      <td>21036</td>\n",
       "      <td>1</td>\n",
       "    </tr>\n",
       "    <tr>\n",
       "      <th>9</th>\n",
       "      <td>9</td>\n",
       "      <td>28325</td>\n",
       "      <td>1</td>\n",
       "    </tr>\n",
       "    <tr>\n",
       "      <th>10</th>\n",
       "      <td>10</td>\n",
       "      <td>35738</td>\n",
       "      <td>0</td>\n",
       "    </tr>\n",
       "    <tr>\n",
       "      <th>11</th>\n",
       "      <td>11</td>\n",
       "      <td>39603</td>\n",
       "      <td>0</td>\n",
       "    </tr>\n",
       "    <tr>\n",
       "      <th>12</th>\n",
       "      <td>12</td>\n",
       "      <td>44212</td>\n",
       "      <td>0</td>\n",
       "    </tr>\n",
       "    <tr>\n",
       "      <th>13</th>\n",
       "      <td>13</td>\n",
       "      <td>47086</td>\n",
       "      <td>0</td>\n",
       "    </tr>\n",
       "    <tr>\n",
       "      <th>14</th>\n",
       "      <td>14</td>\n",
       "      <td>52872</td>\n",
       "      <td>2</td>\n",
       "    </tr>\n",
       "    <tr>\n",
       "      <th>15</th>\n",
       "      <td>15</td>\n",
       "      <td>57974</td>\n",
       "      <td>2</td>\n",
       "    </tr>\n",
       "    <tr>\n",
       "      <th>16</th>\n",
       "      <td>16</td>\n",
       "      <td>61019</td>\n",
       "      <td>2</td>\n",
       "    </tr>\n",
       "    <tr>\n",
       "      <th>17</th>\n",
       "      <td>17</td>\n",
       "      <td>59562</td>\n",
       "      <td>2</td>\n",
       "    </tr>\n",
       "    <tr>\n",
       "      <th>18</th>\n",
       "      <td>18</td>\n",
       "      <td>58058</td>\n",
       "      <td>2</td>\n",
       "    </tr>\n",
       "    <tr>\n",
       "      <th>19</th>\n",
       "      <td>19</td>\n",
       "      <td>54353</td>\n",
       "      <td>2</td>\n",
       "    </tr>\n",
       "    <tr>\n",
       "      <th>20</th>\n",
       "      <td>20</td>\n",
       "      <td>48635</td>\n",
       "      <td>0</td>\n",
       "    </tr>\n",
       "    <tr>\n",
       "      <th>21</th>\n",
       "      <td>21</td>\n",
       "      <td>49620</td>\n",
       "      <td>0</td>\n",
       "    </tr>\n",
       "    <tr>\n",
       "      <th>22</th>\n",
       "      <td>22</td>\n",
       "      <td>48530</td>\n",
       "      <td>0</td>\n",
       "    </tr>\n",
       "    <tr>\n",
       "      <th>23</th>\n",
       "      <td>23</td>\n",
       "      <td>39917</td>\n",
       "      <td>0</td>\n",
       "    </tr>\n",
       "  </tbody>\n",
       "</table>\n",
       "</div>"
      ],
      "text/plain": [
       "    Hour  Demand  WeekendLabel\n",
       "0      0   62593             2\n",
       "1      1   58798             2\n",
       "2      2   56643             2\n",
       "3      3   40966             0\n",
       "4      4   22627             1\n",
       "5      5   18693             1\n",
       "6      6   19682             1\n",
       "7      7   20560             1\n",
       "8      8   21036             1\n",
       "9      9   28325             1\n",
       "10    10   35738             0\n",
       "11    11   39603             0\n",
       "12    12   44212             0\n",
       "13    13   47086             0\n",
       "14    14   52872             2\n",
       "15    15   57974             2\n",
       "16    16   61019             2\n",
       "17    17   59562             2\n",
       "18    18   58058             2\n",
       "19    19   54353             2\n",
       "20    20   48635             0\n",
       "21    21   49620             0\n",
       "22    22   48530             0\n",
       "23    23   39917             0"
      ]
     },
     "execution_count": 16,
     "metadata": {},
     "output_type": "execute_result"
    }
   ],
   "source": [
    "# Weekend time tiers\n",
    "df2"
   ]
  },
  {
   "cell_type": "code",
   "execution_count": 17,
   "metadata": {
    "_uuid": "94ec4185f50192de867fe733ab9c29f21e25ff3a"
   },
   "outputs": [],
   "source": [
    "# Merge labels\n",
    "df1 = df1.loc[:,['Hour', 'WeekdayLabel']]\n",
    "df2 = df2.loc[:,['Hour', 'WeekendLabel']]"
   ]
  },
  {
   "cell_type": "code",
   "execution_count": 18,
   "metadata": {
    "_uuid": "e0b555ffa3bbfbc69ead17ac5cc1cce620de8416"
   },
   "outputs": [],
   "source": [
    "taxi_df = taxi_df.merge(df1, on = 'Hour')"
   ]
  },
  {
   "cell_type": "code",
   "execution_count": 19,
   "metadata": {
    "_uuid": "841a97246f2baaa1db0eb3049c1d34f4c1c94552"
   },
   "outputs": [],
   "source": [
    "taxi_df = taxi_df.merge(df2, on = 'Hour')"
   ]
  },
  {
   "cell_type": "markdown",
   "metadata": {
    "_uuid": "6d49b8c9e05e13a9c943fffd9cf90603c7fcca59"
   },
   "source": [
    "## 3. Price Optimization for peak time"
   ]
  },
  {
   "cell_type": "code",
   "execution_count": 20,
   "metadata": {
    "_uuid": "47ec7c036913c0cde405d67e340300a5994975ce"
   },
   "outputs": [
    {
     "data": {
      "text/plain": [
       "Index(['Type', 'PROVIDER NAME', 'StartDateTime', 'ID', 'ExternalID',\n",
       "       'FareAmount', 'GratuityAmount', 'SurchargeAmount', 'ExtraFareAmount',\n",
       "       'TollAmount', 'TotalAmount', 'PaymentType', 'EndDateTime',\n",
       "       'OriginStreetNumber', 'OriginStreetName', 'OriginCity', 'OriginState',\n",
       "       'OriginZip', 'OriginLatitude', 'OriginLongitude',\n",
       "       'DestinationStreetNumber', 'DestinationStreetName', 'DestinationCity',\n",
       "       'DestinationState', 'DestinationZip', 'DestinationLatitude',\n",
       "       'DestinationLongitude', 'Milage', 'Duration', 'Date', 'Hour', 'Weekday',\n",
       "       'DayofWeek', 'IsWeekday', 'WeekdayLabel', 'WeekendLabel'],\n",
       "      dtype='object')"
      ]
     },
     "execution_count": 20,
     "metadata": {},
     "output_type": "execute_result"
    }
   ],
   "source": [
    "taxi_df.columns"
   ]
  },
  {
   "cell_type": "code",
   "execution_count": 21,
   "metadata": {
    "_uuid": "d7f5489846e2539e334a65ca9370d7370dddd462"
   },
   "outputs": [],
   "source": [
    "# Split dataset into weekdays data and weekend data\n",
    "day_df = taxi_df[taxi_df['IsWeekday']==1].loc[:,['FareAmount', 'TotalAmount', 'IsWeekday', 'WeekdayLabel']]\n",
    "end_df = taxi_df[taxi_df['IsWeekday']==0].loc[:,['FareAmount', 'TotalAmount', 'IsWeekday', 'WeekendLabel']]"
   ]
  },
  {
   "cell_type": "code",
   "execution_count": 22,
   "metadata": {
    "_uuid": "f9a0206c9206105365bdd34f5062007762c048ec"
   },
   "outputs": [],
   "source": [
    "# For weekdays\n",
    "peak = day_df[day_df['WeekdayLabel']==1]\n",
    "off_peak = day_df[day_df['WeekdayLabel']==0]"
   ]
  },
  {
   "cell_type": "code",
   "execution_count": 23,
   "metadata": {
    "_uuid": "4ad4733f4876cd786aa2271de37dac7cacfc59ad"
   },
   "outputs": [],
   "source": [
    "# For weekend\n",
    "peak_end = end_df[end_df['WeekendLabel']==2]\n",
    "off_peak_end = end_df[end_df['WeekendLabel']==1]"
   ]
  },
  {
   "cell_type": "markdown",
   "metadata": {
    "_uuid": "2e079e2a7bb710726f9d8dc2571ac1ee2d322de1"
   },
   "source": [
    "### a. Based on TotalAmount"
   ]
  },
  {
   "cell_type": "code",
   "execution_count": 24,
   "metadata": {
    "_uuid": "7863a1210af1a987f003934ca3408b1fa959f5fd"
   },
   "outputs": [],
   "source": [
    "# Generate list of price shift and demand shift\n",
    "elastic = 0.22\n",
    "price_shift = np.linspace(0.01,2,200)\n",
    "demand_shift = price_shift * elastic\n",
    "shift = list(zip(price_shift, demand_shift))"
   ]
  },
  {
   "cell_type": "code",
   "execution_count": 25,
   "metadata": {
    "_uuid": "494ffeac052f5fdbe7ba60a73b5ea9995876690d"
   },
   "outputs": [],
   "source": [
    "# Weekday, Based on TotalAmount\n",
    "rev_day = []\n",
    "for x,y in shift:\n",
    "    peak_samp = peak.sample(frac=(1-y), random_state=1)\n",
    "    p = peak_samp['TotalAmount'].sum() * (1 + x)\n",
    "    rev_day.append(p)"
   ]
  },
  {
   "cell_type": "code",
   "execution_count": 26,
   "metadata": {
    "_uuid": "3f1d6917ebba61ae6a2e08df4e04329169cf196e"
   },
   "outputs": [],
   "source": [
    "# Weekday Peak time, Result, Based on TotalAmount\n",
    "rev_day = DataFrame(list(zip(price_shift, demand_shift, rev_day)), columns=['price_shift', 'demand_shift', 'revenue'])\n",
    "peak_day_max = rev_day.sort_values(by='revenue', ascending=False).head(1)"
   ]
  },
  {
   "cell_type": "code",
   "execution_count": 27,
   "metadata": {
    "_uuid": "4d71ee851641419aa780edc82e35e0405c8e1b87"
   },
   "outputs": [
    {
     "data": {
      "text/html": [
       "<div>\n",
       "<style scoped>\n",
       "    .dataframe tbody tr th:only-of-type {\n",
       "        vertical-align: middle;\n",
       "    }\n",
       "\n",
       "    .dataframe tbody tr th {\n",
       "        vertical-align: top;\n",
       "    }\n",
       "\n",
       "    .dataframe thead th {\n",
       "        text-align: right;\n",
       "    }\n",
       "</style>\n",
       "<table border=\"1\" class=\"dataframe\">\n",
       "  <thead>\n",
       "    <tr style=\"text-align: right;\">\n",
       "      <th></th>\n",
       "      <th>price_shift</th>\n",
       "      <th>demand_shift</th>\n",
       "      <th>revenue</th>\n",
       "      <th>revenue shift</th>\n",
       "    </tr>\n",
       "  </thead>\n",
       "  <tbody>\n",
       "    <tr>\n",
       "      <th>163</th>\n",
       "      <td>1.64</td>\n",
       "      <td>0.3608</td>\n",
       "      <td>1.256383e+08</td>\n",
       "      <td>0.695778</td>\n",
       "    </tr>\n",
       "  </tbody>\n",
       "</table>\n",
       "</div>"
      ],
      "text/plain": [
       "     price_shift  demand_shift       revenue  revenue shift\n",
       "163         1.64        0.3608  1.256383e+08       0.695778"
      ]
     },
     "execution_count": 27,
     "metadata": {},
     "output_type": "execute_result"
    }
   ],
   "source": [
    "peak_day_max['revenue shift']= max(rev_day['revenue'])/peak['TotalAmount'].sum()-1\n",
    "peak_day_max"
   ]
  },
  {
   "cell_type": "code",
   "execution_count": 28,
   "metadata": {
    "_uuid": "70e4084235413e959bb4ab07aa708509995cfe2f"
   },
   "outputs": [],
   "source": [
    "# Weekend, Based on TotalAmount\n",
    "rev_end = []\n",
    "for x,y in shift:\n",
    "    peak_end_samp = peak_end.sample(frac=(1-y), random_state=1)\n",
    "    p = peak_end_samp['TotalAmount'].sum() * (1 + x)\n",
    "    rev_end.append(p)"
   ]
  },
  {
   "cell_type": "code",
   "execution_count": 29,
   "metadata": {
    "_uuid": "3f1d6917ebba61ae6a2e08df4e04329169cf196e"
   },
   "outputs": [],
   "source": [
    "# Weekend Peak time, Result, Based on TotalAmount\n",
    "rev_end = DataFrame(list(zip(price_shift, demand_shift, rev_end)), columns=['price_shift', 'demand_shift', 'revenue'])\n",
    "peak_end_max = rev_end.sort_values(by='revenue', ascending=False).head(1)"
   ]
  },
  {
   "cell_type": "code",
   "execution_count": 30,
   "metadata": {
    "_uuid": "411d2b8178b4111a9476d4379ce8c73c444f287d"
   },
   "outputs": [
    {
     "data": {
      "text/html": [
       "<div>\n",
       "<style scoped>\n",
       "    .dataframe tbody tr th:only-of-type {\n",
       "        vertical-align: middle;\n",
       "    }\n",
       "\n",
       "    .dataframe tbody tr th {\n",
       "        vertical-align: top;\n",
       "    }\n",
       "\n",
       "    .dataframe thead th {\n",
       "        text-align: right;\n",
       "    }\n",
       "</style>\n",
       "<table border=\"1\" class=\"dataframe\">\n",
       "  <thead>\n",
       "    <tr style=\"text-align: right;\">\n",
       "      <th></th>\n",
       "      <th>price_shift</th>\n",
       "      <th>demand_shift</th>\n",
       "      <th>revenue</th>\n",
       "      <th>revenue shift</th>\n",
       "    </tr>\n",
       "  </thead>\n",
       "  <tbody>\n",
       "    <tr>\n",
       "      <th>175</th>\n",
       "      <td>1.76</td>\n",
       "      <td>0.3872</td>\n",
       "      <td>1.340082e+07</td>\n",
       "      <td>0.693496</td>\n",
       "    </tr>\n",
       "  </tbody>\n",
       "</table>\n",
       "</div>"
      ],
      "text/plain": [
       "     price_shift  demand_shift       revenue  revenue shift\n",
       "175         1.76        0.3872  1.340082e+07       0.693496"
      ]
     },
     "execution_count": 30,
     "metadata": {},
     "output_type": "execute_result"
    }
   ],
   "source": [
    "peak_end_max['revenue shift']= max(rev_end['revenue'])/peak_end['TotalAmount'].sum()-1\n",
    "peak_end_max"
   ]
  },
  {
   "cell_type": "markdown",
   "metadata": {
    "_uuid": "91cbc6aec788a4bf7cd625dd9cf2c79699b0fb5e"
   },
   "source": [
    "### b. Based on FareAmount"
   ]
  },
  {
   "cell_type": "code",
   "execution_count": 31,
   "metadata": {
    "_uuid": "6457292e8bbff895834d07b83ff3b2d20e6de0be"
   },
   "outputs": [],
   "source": [
    "# Weekdays, Generat a related list of demand shift, based on fare shift\n",
    "elastic = 0.22\n",
    "fare_shift = np.linspace(0.01,2,200)\n",
    "demand_shift_day = []\n",
    "for i in fare_shift:\n",
    "    a = (sum(peak['TotalAmount'] + peak['FareAmount'] * i)/sum(peak['TotalAmount']) - 1)*elastic\n",
    "    demand_shift_day.append(a)"
   ]
  },
  {
   "cell_type": "code",
   "execution_count": 32,
   "metadata": {
    "_uuid": "8a84c3276ab1d700d2d7b048b583025f4e978293"
   },
   "outputs": [],
   "source": [
    "#Weekday High Peak, Analysis, only fare\n",
    "shift_day = list(zip(fare_shift, demand_shift))\n",
    "rev_day2 = []\n",
    "for x,y in shift_day:\n",
    "    peak_samp2 = peak.sample(frac=(1-y), random_state=1)\n",
    "    p = sum(peak_samp2['TotalAmount'] + peak_samp2['FareAmount'] * x)\n",
    "    rev_day2.append(p)"
   ]
  },
  {
   "cell_type": "code",
   "execution_count": 33,
   "metadata": {
    "_uuid": "3f1d6917ebba61ae6a2e08df4e04329169cf196e"
   },
   "outputs": [],
   "source": [
    "# Weekday Peak time, Result, Based on FareAmount\n",
    "rev_day2 = DataFrame(list(zip(fare_shift, demand_shift, rev_day2)), columns=['fare_shift', 'demand_shift', 'revenue'])\n",
    "peak_day_max2 = rev_day2.sort_values(by='revenue', ascending=False).head(1)"
   ]
  },
  {
   "cell_type": "code",
   "execution_count": 34,
   "metadata": {
    "_uuid": "9164b85cfd65170f519c99425f0574fde481d1d7"
   },
   "outputs": [
    {
     "data": {
      "text/html": [
       "<div>\n",
       "<style scoped>\n",
       "    .dataframe tbody tr th:only-of-type {\n",
       "        vertical-align: middle;\n",
       "    }\n",
       "\n",
       "    .dataframe tbody tr th {\n",
       "        vertical-align: top;\n",
       "    }\n",
       "\n",
       "    .dataframe thead th {\n",
       "        text-align: right;\n",
       "    }\n",
       "</style>\n",
       "<table border=\"1\" class=\"dataframe\">\n",
       "  <thead>\n",
       "    <tr style=\"text-align: right;\">\n",
       "      <th></th>\n",
       "      <th>fare_shift</th>\n",
       "      <th>demand_shift</th>\n",
       "      <th>revenue</th>\n",
       "      <th>revenue shift</th>\n",
       "    </tr>\n",
       "  </thead>\n",
       "  <tbody>\n",
       "    <tr>\n",
       "      <th>163</th>\n",
       "      <td>1.64</td>\n",
       "      <td>0.3608</td>\n",
       "      <td>1.130761e+08</td>\n",
       "      <td>0.526223</td>\n",
       "    </tr>\n",
       "  </tbody>\n",
       "</table>\n",
       "</div>"
      ],
      "text/plain": [
       "     fare_shift  demand_shift       revenue  revenue shift\n",
       "163        1.64        0.3608  1.130761e+08       0.526223"
      ]
     },
     "execution_count": 34,
     "metadata": {},
     "output_type": "execute_result"
    }
   ],
   "source": [
    "peak_day_max2['revenue shift']= max(rev_day2['revenue'])/peak['TotalAmount'].sum()-1\n",
    "peak_day_max2"
   ]
  },
  {
   "cell_type": "code",
   "execution_count": 35,
   "metadata": {
    "_uuid": "bfc419893028fe9d761c0f2394eb2b3b9a3cbb33"
   },
   "outputs": [],
   "source": [
    "# Weekend, Generat a related list of demand shift, based on fare shift\n",
    "demand_shift_end = []\n",
    "for i in fare_shift:\n",
    "    a = (sum(peak_end['TotalAmount'] + peak_end['FareAmount'] * i)/sum(peak_end['TotalAmount']) - 1)*elastic\n",
    "    demand_shift_end.append(a)"
   ]
  },
  {
   "cell_type": "code",
   "execution_count": 36,
   "metadata": {
    "_uuid": "244c42e47d822dc3365c22779425dc7e769c2f6f"
   },
   "outputs": [],
   "source": [
    "#Weekend High Peak, Analysis, Based on FareAmount\n",
    "shift_end = list(zip(fare_shift, demand_shift_end))\n",
    "rev_end2 = []\n",
    "for x,y in shift_end:\n",
    "    peak_end_samp2 = peak_end.sample(frac=(1-y), random_state=1)\n",
    "    p = sum(peak_end_samp2['TotalAmount'] + peak_end_samp2['FareAmount'] * x)\n",
    "    rev_end2.append(p)"
   ]
  },
  {
   "cell_type": "code",
   "execution_count": 37,
   "metadata": {
    "_uuid": "3f1d6917ebba61ae6a2e08df4e04329169cf196e"
   },
   "outputs": [],
   "source": [
    "# Weekend Peak time, Result, Based on FareAmount\n",
    "rev_end2 = DataFrame(list(zip(fare_shift, demand_shift_end, rev_end2)), columns=['fare_shift', 'demand_shift', 'revenue'])\n",
    "peak_end_max2 = rev_end2.sort_values(by='revenue', ascending=False).head(1)"
   ]
  },
  {
   "cell_type": "code",
   "execution_count": 38,
   "metadata": {
    "_uuid": "4650aee82a808084c25ef9fb0c9afc469a7095e5"
   },
   "outputs": [
    {
     "data": {
      "text/html": [
       "<div>\n",
       "<style scoped>\n",
       "    .dataframe tbody tr th:only-of-type {\n",
       "        vertical-align: middle;\n",
       "    }\n",
       "\n",
       "    .dataframe tbody tr th {\n",
       "        vertical-align: top;\n",
       "    }\n",
       "\n",
       "    .dataframe thead th {\n",
       "        text-align: right;\n",
       "    }\n",
       "</style>\n",
       "<table border=\"1\" class=\"dataframe\">\n",
       "  <thead>\n",
       "    <tr style=\"text-align: right;\">\n",
       "      <th></th>\n",
       "      <th>fare_shift</th>\n",
       "      <th>demand_shift</th>\n",
       "      <th>revenue</th>\n",
       "      <th>revenue shift</th>\n",
       "    </tr>\n",
       "  </thead>\n",
       "  <tbody>\n",
       "    <tr>\n",
       "      <th>199</th>\n",
       "      <td>2.0</td>\n",
       "      <td>0.370644</td>\n",
       "      <td>13384470.0</td>\n",
       "      <td>0.691429</td>\n",
       "    </tr>\n",
       "  </tbody>\n",
       "</table>\n",
       "</div>"
      ],
      "text/plain": [
       "     fare_shift  demand_shift     revenue  revenue shift\n",
       "199         2.0      0.370644  13384470.0       0.691429"
      ]
     },
     "execution_count": 38,
     "metadata": {},
     "output_type": "execute_result"
    }
   ],
   "source": [
    "peak_end_max2['revenue shift']= max(rev_end2['revenue'])/peak_end['TotalAmount'].sum()-1\n",
    "peak_end_max2"
   ]
  },
  {
   "cell_type": "markdown",
   "metadata": {
    "_uuid": "0ee004e8e6c4846ee01fea27f7235394a54026c3"
   },
   "source": [
    "## 4. Price Optimization for off-peak time"
   ]
  },
  {
   "cell_type": "code",
   "execution_count": 39,
   "metadata": {
    "_uuid": "40b89f26783752248e9a87f928cd524691bb1a22"
   },
   "outputs": [],
   "source": [
    "# Generate list of price shift and demand shift\n",
    "elastic = 0.22\n",
    "price_shift_off = np.linspace(-0.01,-1,100)\n",
    "demand_shift_off = price_shift_off * elastic\n",
    "shift_off = list(zip(price_shift_off, demand_shift_off))"
   ]
  },
  {
   "cell_type": "code",
   "execution_count": 40,
   "metadata": {
    "_uuid": "4c447e5062944d9b1b7e1a29d4e82f11e01965fc"
   },
   "outputs": [],
   "source": [
    "#Weekday Off-peak, Analysis\n",
    "rev_off_day = []\n",
    "for x,y in shift_off:\n",
    "    off_samp = off_peak.sample(frac=(1+y), random_state=1, replace=True)\n",
    "    p = off_samp['TotalAmount'].sum() * (1 + x)\n",
    "    rev_off_day.append(p)"
   ]
  },
  {
   "cell_type": "code",
   "execution_count": 41,
   "metadata": {
    "_uuid": "1ab7c6b44538e0e3b33db1222ae0505a1f409df1"
   },
   "outputs": [],
   "source": [
    "# Weekday Off-peak time, Result, Based on TotalAmount\n",
    "rev_off_day = DataFrame(list(zip(price_shift_off, demand_shift_off, rev_off_day)), columns=['price_shift', 'demand_shift', 'revenue'])\n",
    "off_day_max = rev_off_day.sort_values(by='revenue', ascending=False).head(1)"
   ]
  },
  {
   "cell_type": "code",
   "execution_count": 42,
   "metadata": {
    "_uuid": "7496384fd05c52d049112d1f5c862d5928d1d2b9"
   },
   "outputs": [
    {
     "data": {
      "text/plain": [
       "<function matplotlib.pyplot.show(*args, **kw)>"
      ]
     },
     "execution_count": 42,
     "metadata": {},
     "output_type": "execute_result"
    },
    {
     "data": {
      "image/png": "[encoded data removed]",
      "text/plain": [
       "<Figure size 432x288 with 1 Axes>"
      ]
     },
     "metadata": {},
     "output_type": "display_data"
    }
   ],
   "source": [
    "plt.scatter(-rev_off_day['demand_shift'], rev_off_day['revenue'])\n",
    "plt.xlabel('Demand')\n",
    "plt.ylabel('Revenue')\n",
    "plt.title('Demand vs Revenue when Discount')\n",
    "plt.show"
   ]
  },
  {
   "cell_type": "code",
   "execution_count": 43,
   "metadata": {
    "_uuid": "f7ffddbbbd802dd9fcf54ac9f8769d9795db0db2"
   },
   "outputs": [],
   "source": [
    "#Weekend Off-peak, Analysis\n",
    "rev_off_end = []\n",
    "for x,y in shift_off:\n",
    "    off_samp = off_peak_end.sample(frac=(1-y), random_state=1, replace=True)\n",
    "    p = off_samp['TotalAmount'].sum() * (1 + x)\n",
    "    rev_off_end.append(p)"
   ]
  },
  {
   "cell_type": "code",
   "execution_count": 44,
   "metadata": {
    "_uuid": "c2a1a09db30c0604f0885d418bb44547905491eb"
   },
   "outputs": [],
   "source": [
    "# Weekday Off-peak time, Result, Based on TotalAmount\n",
    "rev_off_end = DataFrame(list(zip(price_shift_off, demand_shift_off, rev_off_end)), columns=['price_shift', 'demand_shift', 'revenue'])\n",
    "off_end_max = rev_off_end.sort_values(by='revenue', ascending=False).head(1)"
   ]
  },
  {
   "cell_type": "code",
   "execution_count": 45,
   "metadata": {
    "_uuid": "2c00f64aa9b754cdf2eb6604fa54d83dedcc00f0"
   },
   "outputs": [
    {
     "data": {
      "text/plain": [
       "<function matplotlib.pyplot.show(*args, **kw)>"
      ]
     },
     "execution_count": 45,
     "metadata": {},
     "output_type": "execute_result"
    },
    {
     "data": {
      "image/png": "[encoded data removed]",
      "text/plain": [
       "<Figure size 432x288 with 1 Axes>"
      ]
     },
     "metadata": {},
     "output_type": "display_data"
    }
   ],
   "source": [
    "plt.scatter(-rev_off_end['demand_shift'], rev_off_end['revenue'])\n",
    "plt.xlabel('Demand')\n",
    "plt.ylabel('Revenue')\n",
    "plt.title('Demand vs Revenue when Discount')\n",
    "plt.show"
   ]
  },
  {
   "cell_type": "markdown",
   "metadata": {
    "_uuid": "c56b3585f6c5a0b1bc69f63aa99ea00630ccce8b"
   },
   "source": [
    "## 5. TotalAmount per Trip"
   ]
  },
  {
   "cell_type": "markdown",
   "metadata": {
    "_uuid": "053ed08133ce2f20f2315f15ae91953e8be48661"
   },
   "source": [
    "### a. Based on TotalAmount"
   ]
  },
  {
   "cell_type": "code",
   "execution_count": 46,
   "metadata": {
    "_uuid": "4865ef0804b83c2dd52c4a9d9f19c2f2d19f6be3"
   },
   "outputs": [],
   "source": [
    "# Set supply of Peak Time\n",
    "s_elastic = 0.28\n",
    "price_shift = np.linspace(0.01,2,200)\n",
    "supply_shift = price_shift * s_elastic\n",
    "supply_day = (1+supply_shift) * len(peak)\n",
    "supply_end = (1+supply_shift) * len(peak_end)"
   ]
  },
  {
   "cell_type": "code",
   "execution_count": 47,
   "metadata": {
    "_uuid": "3ed8bf6f3be480ff461b2637526c04f073c2e4ba",
    "scrolled": true
   },
   "outputs": [
    {
     "name": "stdout",
     "output_type": "stream",
     "text": [
      "Original amount per trip(Weekday): 15.085502480732021\n",
      "Max amount per trip(Weekday): 18.41980268311402\n",
      "Price shift(Weekday): 0.22102679089680577\n"
     ]
    }
   ],
   "source": [
    "#Weekday Peak Time, Result, per supply\n",
    "rev_day['supply'] = supply_day\n",
    "rev_day['TotalAmount per Trip'] = rev_day['revenue']/rev_day['supply']\n",
    "p_mean = peak['TotalAmount'].mean()\n",
    "print('Original amount per trip(Weekday):', p_mean)\n",
    "print('Max amount per trip(Weekday):', rev_day['TotalAmount per Trip'].max())\n",
    "print('Price shift(Weekday):', rev_day['TotalAmount per Trip'].max()/p_mean -1)"
   ]
  },
  {
   "cell_type": "code",
   "execution_count": 48,
   "metadata": {
    "_uuid": "3ed8bf6f3be480ff461b2637526c04f073c2e4ba",
    "scrolled": true
   },
   "outputs": [
    {
     "name": "stdout",
     "output_type": "stream",
     "text": [
      "Original amount per trip(Weekend): 15.162938460007394\n",
      "Max amount per trip(Weekend): 18.50280360893093\n",
      "Price shift(Weekend): 0.21479109947565123\n"
     ]
    }
   ],
   "source": [
    "#Weekend Peak Time, Result, per supply\n",
    "rev_end['supply'] = supply_end\n",
    "rev_end['TotalAmount per Trip'] = rev_end['revenue']/rev_end['supply']\n",
    "print('Original amount per trip(Weekend):', peak_end['TotalAmount'].mean())\n",
    "print('Max amount per trip(Weekend):', rev_end['TotalAmount per Trip'].max())\n",
    "print('Price shift(Weekend):', rev_day['TotalAmount per Trip'].max()/peak_end['TotalAmount'].mean() -1)"
   ]
  },
  {
   "cell_type": "markdown",
   "metadata": {
    "_uuid": "8896a42d5f0d492e86936bb5a82fe30cb158d26a"
   },
   "source": [
    "### b. Based on FareAmount"
   ]
  },
  {
   "cell_type": "code",
   "execution_count": 49,
   "metadata": {
    "_uuid": "4865ef0804b83c2dd52c4a9d9f19c2f2d19f6be3"
   },
   "outputs": [],
   "source": [
    "# Set supply of Peak Time for Weekdays\n",
    "supply_shift_day = np.array(demand_shift_day)  * (s_elastic/elastic)\n",
    "supply_day2 = (1+supply_shift_day) * len(peak)"
   ]
  },
  {
   "cell_type": "code",
   "execution_count": 50,
   "metadata": {
    "_uuid": "3ed8bf6f3be480ff461b2637526c04f073c2e4ba",
    "scrolled": true
   },
   "outputs": [
    {
     "name": "stdout",
     "output_type": "stream",
     "text": [
      "Original amount per trip(Weekday): 15.085502480732021\n",
      "Max amount per trip(Weekday): 17.014303152133728\n",
      "Price shift(Weekday): 0.12785790024994337\n"
     ]
    }
   ],
   "source": [
    "#Weekday Peak Time, Result, per supply\n",
    "rev_day2['supply'] = supply_day2\n",
    "rev_day2['TotalAmount per Trip'] = rev_day2['revenue']/rev_day['supply']\n",
    "print('Original amount per trip(Weekday):', p_mean)\n",
    "print('Max amount per trip(Weekday):', rev_day2['TotalAmount per Trip'].max())\n",
    "print('Price shift(Weekday):', rev_day2['TotalAmount per Trip'].max()/p_mean -1)"
   ]
  },
  {
   "cell_type": "code",
   "execution_count": 51,
   "metadata": {
    "_uuid": "4865ef0804b83c2dd52c4a9d9f19c2f2d19f6be3"
   },
   "outputs": [],
   "source": [
    "# Set supply of Peak Time for Weekend\n",
    "supply_shift_end = np.array(demand_shift_end)  * (s_elastic/elastic)\n",
    "supply_end2 = (1+supply_shift_end) * len(peak_end)"
   ]
  },
  {
   "cell_type": "code",
   "execution_count": 52,
   "metadata": {
    "_uuid": "3ed8bf6f3be480ff461b2637526c04f073c2e4ba",
    "scrolled": true
   },
   "outputs": [
    {
     "name": "stdout",
     "output_type": "stream",
     "text": [
      "Original amount per trip(Weekend): 15.162938460007394\n",
      "Max amount per trip(Weekend): 18.499184871942504\n",
      "Price shift(Weekend): 0.22002637686188176\n"
     ]
    }
   ],
   "source": [
    "#Weekend Peak Time, Result, per supply\n",
    "rev_end2['supply'] = supply_end2\n",
    "rev_end2['TotalAmount per Trip'] = rev_end2['revenue']/rev_end2['supply']\n",
    "print('Original amount per trip(Weekend):', peak_end['TotalAmount'].mean())\n",
    "print('Max amount per trip(Weekend):', rev_end2['TotalAmount per Trip'].max())\n",
    "print('Price shift(Weekend):', rev_end2['TotalAmount per Trip'].max()/peak_end['TotalAmount'].mean() -1)"
   ]
  },
  {
   "cell_type": "code",
   "execution_count": 53,
   "metadata": {
    "_uuid": "89b4ff6a37d25d79cc82b020f20a4254339da338"
   },
   "outputs": [],
   "source": []
  },
  {
   "cell_type": "code",
   "execution_count": 53,
   "metadata": {
    "_uuid": "a1ccd0459745d9145d07071ac930f974a9e47ba2"
   },
   "outputs": [],
   "source": []
  }
 ],
 "metadata": {
  "kernelspec": {
   "display_name": "Python 3",
   "language": "python",
   "name": "python3"
  },
  "language_info": {
   "codemirror_mode": {
    "name": "ipython",
    "version": 3
   },
   "file_extension": ".py",
   "mimetype": "text/x-python",
   "name": "python",
   "nbconvert_exporter": "python",
   "pygments_lexer": "ipython3",
   "version": "3.6.6"
  }
 },
 "nbformat": 4,
 "nbformat_minor": 1
}
